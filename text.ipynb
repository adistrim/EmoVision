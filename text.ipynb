{
 "cells": [
  {
   "cell_type": "code",
   "execution_count": 47,
   "metadata": {},
   "outputs": [],
   "source": [
    "\n",
    "from keras.utils import to_categorical\n",
    "from keras.preprocessing.image import load_img\n",
    "from keras.models import Sequential\n",
    "from keras.layers import Dense, Conv2D, Flatten, MaxPooling2D, Dropout\n",
    "import os\n",
    "import numpy as np\n",
    "import pandas as pd\n",
    "from tqdm.notebook import tqdm\n",
    "from sklearn.preprocessing import LabelEncoder\n",
    "from keras.models import load_model\n",
    "import matplotlib.pyplot as plt"
   ]
  },
  {
   "cell_type": "code",
   "execution_count": 7,
   "metadata": {},
   "outputs": [],
   "source": [
    "TRAIN_DIR = 'images/train'\n",
    "TEST_DIR = 'images/test'"
   ]
  },
  {
   "cell_type": "code",
   "execution_count": 11,
   "metadata": {},
   "outputs": [],
   "source": [
    "def createDataFrame (dir):\n",
    "    imagePaths = []\n",
    "    labels = []\n",
    "    for label in os.listdir(dir):\n",
    "        # Skip hidden files\n",
    "        if not label.startswith('.'):\n",
    "            for imageName in os.listdir(os.path.join(dir, label)):\n",
    "                imagePaths.append(os.path.join(dir, label, imageName))\n",
    "                labels.append(label)\n",
    "            print('Finished loading images from {}'.format(label))\n",
    "    return imagePaths, labels"
   ]
  },
  {
   "cell_type": "code",
   "execution_count": 12,
   "metadata": {},
   "outputs": [
    {
     "name": "stdout",
     "output_type": "stream",
     "text": [
      "Finished loading images from happy\n",
      "Finished loading images from sad\n",
      "Finished loading images from fear\n",
      "Finished loading images from surprise\n",
      "Finished loading images from neutral\n",
      "Finished loading images from angry\n",
      "Finished loading images from disgust\n"
     ]
    }
   ],
   "source": [
    "train = pd.DataFrame()\n",
    "train['image'], train['label'] = createDataFrame(TRAIN_DIR)"
   ]
  },
  {
   "cell_type": "code",
   "execution_count": 15,
   "metadata": {},
   "outputs": [
    {
     "name": "stdout",
     "output_type": "stream",
     "text": [
      "Finished loading images from happy\n",
      "Finished loading images from sad\n",
      "Finished loading images from fear\n",
      "Finished loading images from surprise\n",
      "Finished loading images from neutral\n",
      "Finished loading images from angry\n",
      "Finished loading images from disgust\n"
     ]
    }
   ],
   "source": [
    "test = pd.DataFrame()\n",
    "test['image'], test['label'] = createDataFrame(TEST_DIR)"
   ]
  },
  {
   "cell_type": "code",
   "execution_count": 20,
   "metadata": {},
   "outputs": [],
   "source": [
    "def extractFeatures(images):\n",
    "    print('Extracting features...')\n",
    "    features = []\n",
    "    for images in tqdm(images):\n",
    "        img = load_img(images, color_mode=\"grayscale\")\n",
    "        img = np.array(img)\n",
    "        features.append(img)\n",
    "    features = np.array(features)\n",
    "    features = features.reshape(len(features), 48, 48, 1)\n",
    "    return features"
   ]
  },
  {
   "cell_type": "code",
   "execution_count": 21,
   "metadata": {},
   "outputs": [
    {
     "name": "stdout",
     "output_type": "stream",
     "text": [
      "Extracting features...\n"
     ]
    },
    {
     "data": {
      "application/vnd.jupyter.widget-view+json": {
       "model_id": "cdea71fbec534e1c96f9de83734fd7bb",
       "version_major": 2,
       "version_minor": 0
      },
      "text/plain": [
       "  0%|          | 0/28821 [00:00<?, ?it/s]"
      ]
     },
     "metadata": {},
     "output_type": "display_data"
    }
   ],
   "source": [
    "trainFeatures = extractFeatures(train['image'])"
   ]
  },
  {
   "cell_type": "code",
   "execution_count": 22,
   "metadata": {},
   "outputs": [
    {
     "name": "stdout",
     "output_type": "stream",
     "text": [
      "Extracting features...\n"
     ]
    },
    {
     "data": {
      "application/vnd.jupyter.widget-view+json": {
       "model_id": "86a4b19d23ca4b62bd0a65898eab204b",
       "version_major": 2,
       "version_minor": 0
      },
      "text/plain": [
       "  0%|          | 0/7066 [00:00<?, ?it/s]"
      ]
     },
     "metadata": {},
     "output_type": "display_data"
    }
   ],
   "source": [
    "testFeatures = extractFeatures(test['image'])"
   ]
  },
  {
   "cell_type": "code",
   "execution_count": 23,
   "metadata": {},
   "outputs": [],
   "source": [
    "X_train = trainFeatures/255.0\n",
    "X_test = testFeatures/255.0"
   ]
  },
  {
   "cell_type": "code",
   "execution_count": 27,
   "metadata": {},
   "outputs": [
    {
     "data": {
      "text/html": [
       "<style>#sk-container-id-2 {color: black;}#sk-container-id-2 pre{padding: 0;}#sk-container-id-2 div.sk-toggleable {background-color: white;}#sk-container-id-2 label.sk-toggleable__label {cursor: pointer;display: block;width: 100%;margin-bottom: 0;padding: 0.3em;box-sizing: border-box;text-align: center;}#sk-container-id-2 label.sk-toggleable__label-arrow:before {content: \"▸\";float: left;margin-right: 0.25em;color: #696969;}#sk-container-id-2 label.sk-toggleable__label-arrow:hover:before {color: black;}#sk-container-id-2 div.sk-estimator:hover label.sk-toggleable__label-arrow:before {color: black;}#sk-container-id-2 div.sk-toggleable__content {max-height: 0;max-width: 0;overflow: hidden;text-align: left;background-color: #f0f8ff;}#sk-container-id-2 div.sk-toggleable__content pre {margin: 0.2em;color: black;border-radius: 0.25em;background-color: #f0f8ff;}#sk-container-id-2 input.sk-toggleable__control:checked~div.sk-toggleable__content {max-height: 200px;max-width: 100%;overflow: auto;}#sk-container-id-2 input.sk-toggleable__control:checked~label.sk-toggleable__label-arrow:before {content: \"▾\";}#sk-container-id-2 div.sk-estimator input.sk-toggleable__control:checked~label.sk-toggleable__label {background-color: #d4ebff;}#sk-container-id-2 div.sk-label input.sk-toggleable__control:checked~label.sk-toggleable__label {background-color: #d4ebff;}#sk-container-id-2 input.sk-hidden--visually {border: 0;clip: rect(1px 1px 1px 1px);clip: rect(1px, 1px, 1px, 1px);height: 1px;margin: -1px;overflow: hidden;padding: 0;position: absolute;width: 1px;}#sk-container-id-2 div.sk-estimator {font-family: monospace;background-color: #f0f8ff;border: 1px dotted black;border-radius: 0.25em;box-sizing: border-box;margin-bottom: 0.5em;}#sk-container-id-2 div.sk-estimator:hover {background-color: #d4ebff;}#sk-container-id-2 div.sk-parallel-item::after {content: \"\";width: 100%;border-bottom: 1px solid gray;flex-grow: 1;}#sk-container-id-2 div.sk-label:hover label.sk-toggleable__label {background-color: #d4ebff;}#sk-container-id-2 div.sk-serial::before {content: \"\";position: absolute;border-left: 1px solid gray;box-sizing: border-box;top: 0;bottom: 0;left: 50%;z-index: 0;}#sk-container-id-2 div.sk-serial {display: flex;flex-direction: column;align-items: center;background-color: white;padding-right: 0.2em;padding-left: 0.2em;position: relative;}#sk-container-id-2 div.sk-item {position: relative;z-index: 1;}#sk-container-id-2 div.sk-parallel {display: flex;align-items: stretch;justify-content: center;background-color: white;position: relative;}#sk-container-id-2 div.sk-item::before, #sk-container-id-2 div.sk-parallel-item::before {content: \"\";position: absolute;border-left: 1px solid gray;box-sizing: border-box;top: 0;bottom: 0;left: 50%;z-index: -1;}#sk-container-id-2 div.sk-parallel-item {display: flex;flex-direction: column;z-index: 1;position: relative;background-color: white;}#sk-container-id-2 div.sk-parallel-item:first-child::after {align-self: flex-end;width: 50%;}#sk-container-id-2 div.sk-parallel-item:last-child::after {align-self: flex-start;width: 50%;}#sk-container-id-2 div.sk-parallel-item:only-child::after {width: 0;}#sk-container-id-2 div.sk-dashed-wrapped {border: 1px dashed gray;margin: 0 0.4em 0.5em 0.4em;box-sizing: border-box;padding-bottom: 0.4em;background-color: white;}#sk-container-id-2 div.sk-label label {font-family: monospace;font-weight: bold;display: inline-block;line-height: 1.2em;}#sk-container-id-2 div.sk-label-container {text-align: center;}#sk-container-id-2 div.sk-container {/* jupyter's `normalize.less` sets `[hidden] { display: none; }` but bootstrap.min.css set `[hidden] { display: none !important; }` so we also need the `!important` here to be able to override the default hidden behavior on the sphinx rendered scikit-learn.org. See: https://github.com/scikit-learn/scikit-learn/issues/21755 */display: inline-block !important;position: relative;}#sk-container-id-2 div.sk-text-repr-fallback {display: none;}</style><div id=\"sk-container-id-2\" class=\"sk-top-container\"><div class=\"sk-text-repr-fallback\"><pre>LabelEncoder()</pre><b>In a Jupyter environment, please rerun this cell to show the HTML representation or trust the notebook. <br />On GitHub, the HTML representation is unable to render, please try loading this page with nbviewer.org.</b></div><div class=\"sk-container\" hidden><div class=\"sk-item\"><div class=\"sk-estimator sk-toggleable\"><input class=\"sk-toggleable__control sk-hidden--visually\" id=\"sk-estimator-id-2\" type=\"checkbox\" checked><label for=\"sk-estimator-id-2\" class=\"sk-toggleable__label sk-toggleable__label-arrow\">LabelEncoder</label><div class=\"sk-toggleable__content\"><pre>LabelEncoder()</pre></div></div></div></div></div>"
      ],
      "text/plain": [
       "LabelEncoder()"
      ]
     },
     "execution_count": 27,
     "metadata": {},
     "output_type": "execute_result"
    }
   ],
   "source": [
    "LabelEncoder().fit(train['label'])"
   ]
  },
  {
   "cell_type": "code",
   "execution_count": 29,
   "metadata": {},
   "outputs": [],
   "source": [
    "Y_train = LabelEncoder().fit_transform(train['label'])\n",
    "Y_test = LabelEncoder().fit_transform(test['label'])"
   ]
  },
  {
   "cell_type": "code",
   "execution_count": 30,
   "metadata": {},
   "outputs": [],
   "source": [
    "Y_train = to_categorical(Y_train, num_classes=7)\n",
    "Y_test = to_categorical(Y_test, num_classes=7)"
   ]
  },
  {
   "cell_type": "code",
   "execution_count": 31,
   "metadata": {},
   "outputs": [],
   "source": [
    "model = Sequential()\n",
    "\n",
    "# convolutional layers\n",
    "model.add(Conv2D(128, kernel_size=(3,3), activation='relu', input_shape=(48,48,1)))\n",
    "model.add(MaxPooling2D(pool_size=(2,2)))\n",
    "model.add(Dropout(0.4))\n",
    "\n",
    "model.add(Conv2D(256, kernel_size=(3,3), activation='relu'))\n",
    "model.add(MaxPooling2D(pool_size=(2,2)))\n",
    "model.add(Dropout(0.4))\n",
    "\n",
    "model.add(Conv2D(512, kernel_size=(3,3), activation='relu'))\n",
    "model.add(MaxPooling2D(pool_size=(2,2)))\n",
    "model.add(Dropout(0.4))\n",
    "\n",
    "model.add(Conv2D(512, kernel_size=(3,3), activation='relu'))\n",
    "model.add(MaxPooling2D(pool_size=(2,2)))\n",
    "model.add(Dropout(0.4))\n",
    "\n",
    "model.add(Flatten())\n",
    "# fully connected layers\n",
    "model.add(Dense(512, activation='relu'))\n",
    "model.add(Dropout(0.4))\n",
    "model.add(Dense(256, activation='relu'))\n",
    "model.add(Dropout(0.3))\n",
    "# output layer\n",
    "model.add(Dense(7, activation='softmax'))"
   ]
  },
  {
   "cell_type": "code",
   "execution_count": 32,
   "metadata": {},
   "outputs": [],
   "source": [
    "model.compile(loss='categorical_crossentropy', optimizer='adam', metrics=['accuracy'])"
   ]
  },
  {
   "cell_type": "code",
   "execution_count": 33,
   "metadata": {},
   "outputs": [
    {
     "name": "stdout",
     "output_type": "stream",
     "text": [
      "Epoch 1/100\n",
      "226/226 [==============================] - 271s 1s/step - loss: 1.8243 - accuracy: 0.2437 - val_loss: 1.8095 - val_accuracy: 0.2583\n",
      "Epoch 2/100\n",
      "226/226 [==============================] - 236s 1s/step - loss: 1.8073 - accuracy: 0.2513 - val_loss: 1.7781 - val_accuracy: 0.2598\n",
      "Epoch 3/100\n",
      "226/226 [==============================] - 237s 1s/step - loss: 1.7499 - accuracy: 0.2784 - val_loss: 1.6752 - val_accuracy: 0.3283\n",
      "Epoch 4/100\n",
      "226/226 [==============================] - 257s 1s/step - loss: 1.6360 - accuracy: 0.3504 - val_loss: 1.5213 - val_accuracy: 0.4093\n",
      "Epoch 5/100\n",
      "226/226 [==============================] - 258s 1s/step - loss: 1.5244 - accuracy: 0.4081 - val_loss: 1.3842 - val_accuracy: 0.4660\n",
      "Epoch 6/100\n",
      "226/226 [==============================] - 245s 1s/step - loss: 1.4639 - accuracy: 0.4300 - val_loss: 1.3779 - val_accuracy: 0.4670\n",
      "Epoch 7/100\n",
      "226/226 [==============================] - 252s 1s/step - loss: 1.4146 - accuracy: 0.4560 - val_loss: 1.2981 - val_accuracy: 0.5075\n",
      "Epoch 8/100\n",
      "226/226 [==============================] - 262s 1s/step - loss: 1.3765 - accuracy: 0.4682 - val_loss: 1.3051 - val_accuracy: 0.4949\n",
      "Epoch 9/100\n",
      "226/226 [==============================] - 272s 1s/step - loss: 1.3521 - accuracy: 0.4812 - val_loss: 1.2514 - val_accuracy: 0.5235\n",
      "Epoch 10/100\n",
      "226/226 [==============================] - 260s 1s/step - loss: 1.3240 - accuracy: 0.4930 - val_loss: 1.2308 - val_accuracy: 0.5277\n",
      "Epoch 11/100\n",
      "226/226 [==============================] - 249s 1s/step - loss: 1.3008 - accuracy: 0.5004 - val_loss: 1.1972 - val_accuracy: 0.5542\n",
      "Epoch 12/100\n",
      "226/226 [==============================] - 257s 1s/step - loss: 1.2812 - accuracy: 0.5083 - val_loss: 1.1993 - val_accuracy: 0.5474\n",
      "Epoch 13/100\n",
      "226/226 [==============================] - 279s 1s/step - loss: 1.2682 - accuracy: 0.5165 - val_loss: 1.1682 - val_accuracy: 0.5531\n",
      "Epoch 14/100\n",
      "226/226 [==============================] - 284s 1s/step - loss: 1.2481 - accuracy: 0.5234 - val_loss: 1.1616 - val_accuracy: 0.5651\n",
      "Epoch 15/100\n",
      "226/226 [==============================] - 291s 1s/step - loss: 1.2407 - accuracy: 0.5258 - val_loss: 1.1594 - val_accuracy: 0.5552\n",
      "Epoch 16/100\n",
      "226/226 [==============================] - 270s 1s/step - loss: 1.2270 - accuracy: 0.5337 - val_loss: 1.1358 - val_accuracy: 0.5702\n",
      "Epoch 17/100\n",
      "226/226 [==============================] - 310s 1s/step - loss: 1.2162 - accuracy: 0.5400 - val_loss: 1.1308 - val_accuracy: 0.5730\n",
      "Epoch 18/100\n",
      "226/226 [==============================] - 297s 1s/step - loss: 1.1997 - accuracy: 0.5430 - val_loss: 1.1285 - val_accuracy: 0.5764\n",
      "Epoch 19/100\n",
      "226/226 [==============================] - 275s 1s/step - loss: 1.1928 - accuracy: 0.5468 - val_loss: 1.1220 - val_accuracy: 0.5832\n",
      "Epoch 20/100\n",
      "226/226 [==============================] - 254s 1s/step - loss: 1.1795 - accuracy: 0.5542 - val_loss: 1.1173 - val_accuracy: 0.5778\n",
      "Epoch 21/100\n",
      "226/226 [==============================] - 238s 1s/step - loss: 1.1713 - accuracy: 0.5572 - val_loss: 1.1012 - val_accuracy: 0.5875\n",
      "Epoch 22/100\n",
      "226/226 [==============================] - 243s 1s/step - loss: 1.1533 - accuracy: 0.5602 - val_loss: 1.1011 - val_accuracy: 0.5832\n",
      "Epoch 23/100\n",
      "226/226 [==============================] - 229s 1s/step - loss: 1.1483 - accuracy: 0.5627 - val_loss: 1.1042 - val_accuracy: 0.5887\n",
      "Epoch 24/100\n",
      "226/226 [==============================] - 228s 1s/step - loss: 1.1399 - accuracy: 0.5668 - val_loss: 1.0900 - val_accuracy: 0.5904\n",
      "Epoch 25/100\n",
      "226/226 [==============================] - 233s 1s/step - loss: 1.1366 - accuracy: 0.5744 - val_loss: 1.0962 - val_accuracy: 0.5893\n",
      "Epoch 26/100\n",
      "226/226 [==============================] - 231s 1s/step - loss: 1.1250 - accuracy: 0.5743 - val_loss: 1.0803 - val_accuracy: 0.5887\n",
      "Epoch 27/100\n",
      "226/226 [==============================] - 230s 1s/step - loss: 1.1064 - accuracy: 0.5815 - val_loss: 1.0715 - val_accuracy: 0.5969\n",
      "Epoch 28/100\n",
      "226/226 [==============================] - 233s 1s/step - loss: 1.1113 - accuracy: 0.5796 - val_loss: 1.0774 - val_accuracy: 0.6015\n",
      "Epoch 29/100\n",
      "226/226 [==============================] - 236s 1s/step - loss: 1.0982 - accuracy: 0.5852 - val_loss: 1.0916 - val_accuracy: 0.5892\n",
      "Epoch 30/100\n",
      "226/226 [==============================] - 242s 1s/step - loss: 1.0890 - accuracy: 0.5888 - val_loss: 1.0655 - val_accuracy: 0.6053\n",
      "Epoch 31/100\n",
      "226/226 [==============================] - 233s 1s/step - loss: 1.0867 - accuracy: 0.5895 - val_loss: 1.0675 - val_accuracy: 0.6025\n",
      "Epoch 32/100\n",
      "226/226 [==============================] - 223s 987ms/step - loss: 1.0738 - accuracy: 0.5971 - val_loss: 1.0625 - val_accuracy: 0.6047\n",
      "Epoch 33/100\n",
      "226/226 [==============================] - 223s 985ms/step - loss: 1.0754 - accuracy: 0.5920 - val_loss: 1.0796 - val_accuracy: 0.6003\n",
      "Epoch 34/100\n",
      "226/226 [==============================] - 223s 988ms/step - loss: 1.0534 - accuracy: 0.6013 - val_loss: 1.0554 - val_accuracy: 0.6125\n",
      "Epoch 35/100\n",
      "226/226 [==============================] - 222s 984ms/step - loss: 1.0584 - accuracy: 0.6022 - val_loss: 1.0593 - val_accuracy: 0.6027\n",
      "Epoch 36/100\n",
      "226/226 [==============================] - 223s 986ms/step - loss: 1.0438 - accuracy: 0.6056 - val_loss: 1.0586 - val_accuracy: 0.6049\n",
      "Epoch 37/100\n",
      "226/226 [==============================] - 222s 982ms/step - loss: 1.0367 - accuracy: 0.6125 - val_loss: 1.0556 - val_accuracy: 0.6107\n",
      "Epoch 38/100\n",
      "226/226 [==============================] - 223s 986ms/step - loss: 1.0395 - accuracy: 0.6107 - val_loss: 1.0502 - val_accuracy: 0.6110\n",
      "Epoch 39/100\n",
      "226/226 [==============================] - 222s 984ms/step - loss: 1.0248 - accuracy: 0.6142 - val_loss: 1.0496 - val_accuracy: 0.6127\n",
      "Epoch 40/100\n",
      "226/226 [==============================] - 223s 987ms/step - loss: 1.0269 - accuracy: 0.6132 - val_loss: 1.0458 - val_accuracy: 0.6142\n",
      "Epoch 41/100\n",
      "226/226 [==============================] - 223s 986ms/step - loss: 1.0251 - accuracy: 0.6141 - val_loss: 1.0502 - val_accuracy: 0.6110\n",
      "Epoch 42/100\n",
      "226/226 [==============================] - 223s 985ms/step - loss: 1.0164 - accuracy: 0.6182 - val_loss: 1.0439 - val_accuracy: 0.6160\n",
      "Epoch 43/100\n",
      "226/226 [==============================] - 222s 982ms/step - loss: 1.0078 - accuracy: 0.6184 - val_loss: 1.0497 - val_accuracy: 0.6124\n",
      "Epoch 44/100\n",
      "226/226 [==============================] - 223s 985ms/step - loss: 1.0014 - accuracy: 0.6207 - val_loss: 1.0437 - val_accuracy: 0.6134\n",
      "Epoch 45/100\n",
      "226/226 [==============================] - 223s 987ms/step - loss: 0.9942 - accuracy: 0.6291 - val_loss: 1.0367 - val_accuracy: 0.6162\n",
      "Epoch 46/100\n",
      "226/226 [==============================] - 223s 987ms/step - loss: 0.9908 - accuracy: 0.6309 - val_loss: 1.0444 - val_accuracy: 0.6153\n",
      "Epoch 47/100\n",
      "226/226 [==============================] - 223s 987ms/step - loss: 0.9814 - accuracy: 0.6351 - val_loss: 1.0387 - val_accuracy: 0.6190\n",
      "Epoch 48/100\n",
      "226/226 [==============================] - 223s 986ms/step - loss: 0.9850 - accuracy: 0.6297 - val_loss: 1.0296 - val_accuracy: 0.6233\n",
      "Epoch 49/100\n",
      "226/226 [==============================] - 224s 993ms/step - loss: 0.9703 - accuracy: 0.6352 - val_loss: 1.0409 - val_accuracy: 0.6214\n",
      "Epoch 50/100\n",
      "226/226 [==============================] - 229s 1s/step - loss: 0.9660 - accuracy: 0.6395 - val_loss: 1.0486 - val_accuracy: 0.6160\n",
      "Epoch 51/100\n",
      "226/226 [==============================] - 230s 1s/step - loss: 0.9578 - accuracy: 0.6428 - val_loss: 1.0316 - val_accuracy: 0.6166\n",
      "Epoch 52/100\n",
      "226/226 [==============================] - 230s 1s/step - loss: 0.9447 - accuracy: 0.6479 - val_loss: 1.0292 - val_accuracy: 0.6211\n",
      "Epoch 53/100\n",
      "226/226 [==============================] - 230s 1s/step - loss: 0.9432 - accuracy: 0.6463 - val_loss: 1.0359 - val_accuracy: 0.6158\n",
      "Epoch 54/100\n",
      "226/226 [==============================] - 230s 1s/step - loss: 0.9516 - accuracy: 0.6432 - val_loss: 1.0356 - val_accuracy: 0.6182\n",
      "Epoch 55/100\n",
      "226/226 [==============================] - 231s 1s/step - loss: 0.9326 - accuracy: 0.6488 - val_loss: 1.0389 - val_accuracy: 0.6144\n",
      "Epoch 56/100\n",
      "226/226 [==============================] - 230s 1s/step - loss: 0.9391 - accuracy: 0.6517 - val_loss: 1.0184 - val_accuracy: 0.6264\n",
      "Epoch 57/100\n",
      "226/226 [==============================] - 230s 1s/step - loss: 0.9300 - accuracy: 0.6520 - val_loss: 1.0235 - val_accuracy: 0.6272\n",
      "Epoch 58/100\n",
      "226/226 [==============================] - 231s 1s/step - loss: 0.9238 - accuracy: 0.6548 - val_loss: 1.0273 - val_accuracy: 0.6224\n",
      "Epoch 59/100\n",
      "226/226 [==============================] - 230s 1s/step - loss: 0.9208 - accuracy: 0.6577 - val_loss: 1.0241 - val_accuracy: 0.6269\n",
      "Epoch 60/100\n",
      "226/226 [==============================] - 232s 1s/step - loss: 0.9108 - accuracy: 0.6627 - val_loss: 1.0232 - val_accuracy: 0.6250\n",
      "Epoch 61/100\n",
      "226/226 [==============================] - 230s 1s/step - loss: 0.8990 - accuracy: 0.6665 - val_loss: 1.0365 - val_accuracy: 0.6207\n",
      "Epoch 62/100\n",
      "226/226 [==============================] - 227s 1s/step - loss: 0.8942 - accuracy: 0.6667 - val_loss: 1.0320 - val_accuracy: 0.6250\n",
      "Epoch 63/100\n",
      "226/226 [==============================] - 225s 995ms/step - loss: 0.9007 - accuracy: 0.6687 - val_loss: 1.0299 - val_accuracy: 0.6244\n",
      "Epoch 64/100\n",
      "226/226 [==============================] - 226s 1s/step - loss: 0.8844 - accuracy: 0.6731 - val_loss: 1.0301 - val_accuracy: 0.6282\n",
      "Epoch 65/100\n",
      "226/226 [==============================] - 225s 997ms/step - loss: 0.8880 - accuracy: 0.6715 - val_loss: 1.0321 - val_accuracy: 0.6251\n",
      "Epoch 66/100\n",
      "226/226 [==============================] - 226s 1s/step - loss: 0.8840 - accuracy: 0.6734 - val_loss: 1.0213 - val_accuracy: 0.6264\n",
      "Epoch 67/100\n",
      "226/226 [==============================] - 226s 999ms/step - loss: 0.8756 - accuracy: 0.6785 - val_loss: 1.0259 - val_accuracy: 0.6261\n",
      "Epoch 68/100\n",
      "226/226 [==============================] - 225s 996ms/step - loss: 0.8672 - accuracy: 0.6814 - val_loss: 1.0247 - val_accuracy: 0.6342\n",
      "Epoch 69/100\n",
      "226/226 [==============================] - 225s 997ms/step - loss: 0.8624 - accuracy: 0.6792 - val_loss: 1.0306 - val_accuracy: 0.6250\n",
      "Epoch 70/100\n",
      "226/226 [==============================] - 226s 1000ms/step - loss: 0.8666 - accuracy: 0.6800 - val_loss: 1.0210 - val_accuracy: 0.6258\n",
      "Epoch 71/100\n",
      "226/226 [==============================] - 226s 998ms/step - loss: 0.8450 - accuracy: 0.6873 - val_loss: 1.0255 - val_accuracy: 0.6298\n",
      "Epoch 72/100\n",
      "226/226 [==============================] - 231s 1s/step - loss: 0.8555 - accuracy: 0.6849 - val_loss: 1.0268 - val_accuracy: 0.6286\n",
      "Epoch 73/100\n",
      "226/226 [==============================] - 239s 1s/step - loss: 0.8433 - accuracy: 0.6883 - val_loss: 1.0293 - val_accuracy: 0.6260\n",
      "Epoch 74/100\n",
      "226/226 [==============================] - 239s 1s/step - loss: 0.8380 - accuracy: 0.6904 - val_loss: 1.0241 - val_accuracy: 0.6323\n",
      "Epoch 75/100\n",
      "226/226 [==============================] - 239s 1s/step - loss: 0.8323 - accuracy: 0.6973 - val_loss: 1.0361 - val_accuracy: 0.6302\n",
      "Epoch 76/100\n",
      "226/226 [==============================] - 228s 1s/step - loss: 0.8309 - accuracy: 0.6933 - val_loss: 1.0284 - val_accuracy: 0.6313\n",
      "Epoch 77/100\n",
      "226/226 [==============================] - 224s 991ms/step - loss: 0.8209 - accuracy: 0.6949 - val_loss: 1.0295 - val_accuracy: 0.6289\n",
      "Epoch 78/100\n",
      "226/226 [==============================] - 224s 992ms/step - loss: 0.8183 - accuracy: 0.6990 - val_loss: 1.0289 - val_accuracy: 0.6302\n",
      "Epoch 79/100\n",
      "226/226 [==============================] - 223s 985ms/step - loss: 0.8205 - accuracy: 0.6983 - val_loss: 1.0249 - val_accuracy: 0.6319\n",
      "Epoch 80/100\n",
      "226/226 [==============================] - 230s 1s/step - loss: 0.8221 - accuracy: 0.6981 - val_loss: 1.0286 - val_accuracy: 0.6311\n",
      "Epoch 81/100\n",
      "226/226 [==============================] - 236s 1s/step - loss: 0.8123 - accuracy: 0.7023 - val_loss: 1.0380 - val_accuracy: 0.6299\n",
      "Epoch 82/100\n",
      "226/226 [==============================] - 237s 1s/step - loss: 0.8166 - accuracy: 0.7003 - val_loss: 1.0161 - val_accuracy: 0.6294\n",
      "Epoch 83/100\n",
      "226/226 [==============================] - 228s 1s/step - loss: 0.8109 - accuracy: 0.7029 - val_loss: 1.0180 - val_accuracy: 0.6323\n",
      "Epoch 84/100\n",
      "226/226 [==============================] - 223s 989ms/step - loss: 0.7974 - accuracy: 0.7083 - val_loss: 1.0199 - val_accuracy: 0.6346\n",
      "Epoch 85/100\n",
      "226/226 [==============================] - 223s 985ms/step - loss: 0.7934 - accuracy: 0.7108 - val_loss: 1.0255 - val_accuracy: 0.6360\n",
      "Epoch 86/100\n",
      "226/226 [==============================] - 222s 984ms/step - loss: 0.7883 - accuracy: 0.7080 - val_loss: 1.0205 - val_accuracy: 0.6320\n",
      "Epoch 87/100\n",
      "226/226 [==============================] - 224s 991ms/step - loss: 0.7859 - accuracy: 0.7117 - val_loss: 1.0210 - val_accuracy: 0.6342\n",
      "Epoch 88/100\n",
      "226/226 [==============================] - 224s 991ms/step - loss: 0.7857 - accuracy: 0.7146 - val_loss: 1.0170 - val_accuracy: 0.6337\n",
      "Epoch 89/100\n",
      "226/226 [==============================] - 223s 988ms/step - loss: 0.7837 - accuracy: 0.7159 - val_loss: 1.0244 - val_accuracy: 0.6366\n",
      "Epoch 90/100\n",
      "226/226 [==============================] - 223s 985ms/step - loss: 0.7746 - accuracy: 0.7155 - val_loss: 1.0282 - val_accuracy: 0.6335\n",
      "Epoch 91/100\n",
      "226/226 [==============================] - 224s 991ms/step - loss: 0.7689 - accuracy: 0.7214 - val_loss: 1.0395 - val_accuracy: 0.6320\n",
      "Epoch 92/100\n",
      "226/226 [==============================] - 223s 986ms/step - loss: 0.7600 - accuracy: 0.7221 - val_loss: 1.0317 - val_accuracy: 0.6295\n",
      "Epoch 93/100\n",
      "226/226 [==============================] - 228s 1s/step - loss: 0.7609 - accuracy: 0.7238 - val_loss: 1.0211 - val_accuracy: 0.6350\n",
      "Epoch 94/100\n",
      "226/226 [==============================] - 237s 1s/step - loss: 0.7523 - accuracy: 0.7249 - val_loss: 1.0377 - val_accuracy: 0.6357\n",
      "Epoch 95/100\n",
      "226/226 [==============================] - 244s 1s/step - loss: 0.7591 - accuracy: 0.7228 - val_loss: 1.0479 - val_accuracy: 0.6284\n",
      "Epoch 96/100\n",
      "226/226 [==============================] - 235s 1s/step - loss: 0.7541 - accuracy: 0.7261 - val_loss: 1.0218 - val_accuracy: 0.6319\n",
      "Epoch 97/100\n",
      "226/226 [==============================] - 225s 996ms/step - loss: 0.7418 - accuracy: 0.7313 - val_loss: 1.0330 - val_accuracy: 0.6288\n",
      "Epoch 98/100\n",
      "226/226 [==============================] - 233s 1s/step - loss: 0.7391 - accuracy: 0.7305 - val_loss: 1.0248 - val_accuracy: 0.6370\n",
      "Epoch 99/100\n",
      "226/226 [==============================] - 239s 1s/step - loss: 0.7457 - accuracy: 0.7300 - val_loss: 1.0227 - val_accuracy: 0.6360\n",
      "Epoch 100/100\n",
      "226/226 [==============================] - 230s 1s/step - loss: 0.7405 - accuracy: 0.7307 - val_loss: 1.0369 - val_accuracy: 0.6308\n"
     ]
    },
    {
     "data": {
      "text/plain": [
       "<keras.src.callbacks.History at 0x2e3973ed0>"
      ]
     },
     "execution_count": 33,
     "metadata": {},
     "output_type": "execute_result"
    }
   ],
   "source": [
    "model.fit(X_train, Y_train, epochs=100, batch_size=128, validation_data=(X_test, Y_test))"
   ]
  },
  {
   "cell_type": "code",
   "execution_count": 41,
   "metadata": {},
   "outputs": [],
   "source": [
    "# saving model as .keras file\n",
    "model.save(\"emotionCheck.keras\")"
   ]
  },
  {
   "cell_type": "code",
   "execution_count": 42,
   "metadata": {},
   "outputs": [],
   "source": [
    "loaded_model = load_model(\"emotionCheck.keras\")"
   ]
  },
  {
   "cell_type": "code",
   "execution_count": 37,
   "metadata": {},
   "outputs": [],
   "source": [
    "label = ['angry','disgust','fear','happy','neutral','sad','surprise']"
   ]
  },
  {
   "cell_type": "code",
   "execution_count": 43,
   "metadata": {},
   "outputs": [],
   "source": [
    "def ef(image):\n",
    "    img = load_img(image, color_mode=\"grayscale\")\n",
    "    feature = np.array(img)\n",
    "    feature = feature.reshape(1,48,48,1)\n",
    "    return feature/255.0"
   ]
  },
  {
   "cell_type": "code",
   "execution_count": 46,
   "metadata": {},
   "outputs": [
    {
     "name": "stdout",
     "output_type": "stream",
     "text": [
      "original image is of sad\n",
      "1/1 [==============================] - 0s 19ms/step\n",
      "model prediction is sad\n"
     ]
    }
   ],
   "source": [
    "image = 'images/train/sad/42.jpg'\n",
    "print(\"original image is of sad\")\n",
    "img = ef(image)\n",
    "\n",
    "# Using the loaded model for prediction\n",
    "pred = loaded_model.predict(img)\n",
    "pred_label = label[pred.argmax()]\n",
    "print(\"model prediction is\", pred_label)"
   ]
  },
  {
   "cell_type": "code",
   "execution_count": 53,
   "metadata": {},
   "outputs": [
    {
     "name": "stdout",
     "output_type": "stream",
     "text": [
      "original image is of angry\n",
      "1/1 [==============================] - 0s 24ms/step\n",
      "model prediction is  angry\n"
     ]
    },
    {
     "data": {
      "text/plain": [
       "<matplotlib.image.AxesImage at 0x2aec19cd0>"
      ]
     },
     "execution_count": 53,
     "metadata": {},
     "output_type": "execute_result"
    },
    {
     "data": {
      "image/png": "[encoded data removed]",
      "text/plain": [
       "<Figure size 640x480 with 1 Axes>"
      ]
     },
     "metadata": {},
     "output_type": "display_data"
    }
   ],
   "source": [
    "image = 'images/test/angry/966.jpg'\n",
    "print(\"original image is of angry\")\n",
    "img = ef(image)\n",
    "pred = loaded_model.predict(img)\n",
    "pred_label = label[pred.argmax()]\n",
    "print(\"model prediction is \",pred_label)\n",
    "plt.imshow(img.reshape(48,48),cmap='gray')"
   ]
  },
  {
   "cell_type": "code",
   "execution_count": null,
   "metadata": {},
   "outputs": [],
   "source": []
  }
 ],
 "metadata": {
  "kernelspec": {
   "display_name": "Python 3",
   "language": "python",
   "name": "python3"
  },
  "language_info": {
   "codemirror_mode": {
    "name": "ipython",
    "version": 3
   },
   "file_extension": ".py",
   "mimetype": "text/x-python",
   "name": "python",
   "nbconvert_exporter": "python",
   "pygments_lexer": "ipython3",
   "version": "3.11.6"
  }
 },
 "nbformat": 4,
 "nbformat_minor": 2
}
